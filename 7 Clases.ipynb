{
 "cells": [
  {
   "cell_type": "code",
   "execution_count": 4,
   "metadata": {},
   "outputs": [],
   "source": [
    "#para trabajar utilizamos la clase Persona\n",
    "class Persona:\n",
    "    #lista de atributos solo pueden ser definidos si tengo un valor que poner\n",
    "    i=0\n",
    "    #constructor es un metodo de instanciacion, a diferencia de JAVA y otros lenguajes POO\n",
    "    #Se llama __init__\n",
    "    def __init__(self,nombrePersona,edadPersona):#siempre se recibe el parametro self\n",
    "        self.nombrePersona=nombrePersona\n",
    "        self.edadPersona=edadPersona#se pueden insscribir los atributos en el constructor\n",
    "    "
   ]
  },
  {
   "cell_type": "code",
   "execution_count": 7,
   "metadata": {},
   "outputs": [
    {
     "name": "stdout",
     "output_type": "stream",
     "text": [
      "carlos\n"
     ]
    }
   ],
   "source": [
    "alumno=Persona(\"carlos\",35)\n",
    "print(alumno.nombrePersona)"
   ]
  },
  {
   "cell_type": "code",
   "execution_count": null,
   "metadata": {},
   "outputs": [],
   "source": []
  }
 ],
 "metadata": {
  "kernelspec": {
   "display_name": "Python 3",
   "language": "python",
   "name": "python3"
  },
  "language_info": {
   "codemirror_mode": {
    "name": "ipython",
    "version": 3
   },
   "file_extension": ".py",
   "mimetype": "text/x-python",
   "name": "python",
   "nbconvert_exporter": "python",
   "pygments_lexer": "ipython3",
   "version": "3.6.5"
  }
 },
 "nbformat": 4,
 "nbformat_minor": 2
}
