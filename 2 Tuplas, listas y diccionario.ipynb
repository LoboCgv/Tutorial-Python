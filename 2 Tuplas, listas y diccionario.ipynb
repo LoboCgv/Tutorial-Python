{
 "cells": [
  {
   "cell_type": "code",
   "execution_count": 2,
   "metadata": {},
   "outputs": [],
   "source": [
    "#las tuplas no pueden ser modificadas\n",
    "#las listas puden agregar modificar y eliminar datos\n",
    "tupla=(2,20,19,18)\n",
    "lista=[2,20,19,18]"
   ]
  },
  {
   "cell_type": "code",
   "execution_count": 3,
   "metadata": {},
   "outputs": [
    {
     "name": "stdout",
     "output_type": "stream",
     "text": [
      "dato en la posición 2 de la tupla 19\n",
      "dato en la lista posicion 0 2\n",
      "el ultimo elemento de la lista 18\n",
      "el antepenultimo elemento de la tupla 19\n"
     ]
    }
   ],
   "source": [
    "# el acceso a datos en ambos casos será usando los índices desde la posicion 0 a la n-1\n",
    "#en ambos casos se accede usando []\n",
    "print(\"dato en la posición 2 de la tupla\",tupla[2])\n",
    "print(\"dato en la lista posicion 0\",lista[0])\n",
    "#para acceder a los elementos desde atras y adelante se utilizan numeros negativos\n",
    "print(\"el ultimo elemento de la lista\",lista[-1])\n",
    "print(\"el antepenultimo elemento de la tupla\",tupla[-2])"
   ]
  },
  {
   "cell_type": "code",
   "execution_count": 4,
   "metadata": {},
   "outputs": [
    {
     "name": "stdout",
     "output_type": "stream",
     "text": [
      "[2, 20, 19, 18]\n",
      "(2, 20, 19, 18)\n"
     ]
    }
   ],
   "source": [
    "#ver el contenido de una coleccion\n",
    "print(lista)\n",
    "print (tupla)"
   ]
  },
  {
   "cell_type": "code",
   "execution_count": 5,
   "metadata": {},
   "outputs": [
    {
     "name": "stdout",
     "output_type": "stream",
     "text": [
      "[35, 20, 19, 18]\n",
      "[35, 20, 19]\n",
      "[20, 19]\n"
     ]
    }
   ],
   "source": [
    "# se puede modificar los datos de una lista\n",
    "lista[0]=35\n",
    "#imprimimos la lista\n",
    "print(lista)\n",
    "#eliminamos un elemento usando pop(), por defecto se elimina el ultimo elemento\n",
    "lista.pop()\n",
    "print(lista)\n",
    "#si ponemos un indice se elimina el elemnto seleccionado\n",
    "lista.pop(0)\n",
    "print(lista)\n",
    "#print(\"el nuevo primer elemento es\",lista[0]) al usar poop se mantienen los indices"
   ]
  },
  {
   "cell_type": "code",
   "execution_count": 6,
   "metadata": {},
   "outputs": [
    {
     "name": "stdout",
     "output_type": "stream",
     "text": [
      "[19]\n"
     ]
    }
   ],
   "source": [
    "#se puede eliminar elementos por sus valores usando remove\n",
    "lista.remove(20)\n",
    "print (lista)"
   ]
  },
  {
   "cell_type": "code",
   "execution_count": 7,
   "metadata": {},
   "outputs": [
    {
     "name": "stdout",
     "output_type": "stream",
     "text": [
      "[19, 46]\n",
      "[19, 46, 2, 20, 19, 18]\n",
      "[19, 46, 2, 20, 19, 18, 78, 14, 0, 772, 7722]\n",
      "[19, 46, 2, 634.4, 20, 19, 18, 78, 14, 0, 772, 7722]\n"
     ]
    }
   ],
   "source": [
    "#para agregar elementos\n",
    "#append agrega un nuevo elemento, lo hace por defecto al final\n",
    "lista.append(46)\n",
    "print(lista)\n",
    "#para agregar elementos con otra coleccion de listas\n",
    "lista.extend(tupla)\n",
    "print(lista)\n",
    "lista.extend([78,14,0,772,7722])\n",
    "print (lista)\n",
    "#para insertar en una posicion especifica se utiliza insert\n",
    "lista.insert(3,634.4)#notar que se agrego un numero en la cuarta posicion, indice 3, pero esta vez es un flotante\n",
    "print(lista)"
   ]
  },
  {
   "cell_type": "code",
   "execution_count": 8,
   "metadata": {},
   "outputs": [
    {
     "name": "stdout",
     "output_type": "stream",
     "text": [
      "[0, 2, 14, 18, 19, 19, 20, 46, 78, 634.4, 772, 7722]\n",
      "[7722, 772, 634.4, 78, 46, 20, 19, 19, 18, 14, 2, 0]\n",
      "[0, 2, 14, 18, 19, 19, 20, 46, 78, 634.4, 772, 7722]\n"
     ]
    }
   ],
   "source": [
    "#ordenar una lista\n",
    "#ascendente por defecto usar la funcion sort\n",
    "lista.sort()\n",
    "print(lista)\n",
    "#descendente se usa el parametro reverse\n",
    "lista.sort(reverse=True)\n",
    "print(lista)\n",
    "#el metodo reverse da vuelta los valores d elos indices\n",
    "lista.reverse()\n",
    "print(lista)"
   ]
  },
  {
   "cell_type": "code",
   "execution_count": 12,
   "metadata": {},
   "outputs": [
    {
     "name": "stdout",
     "output_type": "stream",
     "text": [
      "[0, 2, 14, 18, 19, 19, 20, 46, 78, 634.4, 772, 7722, 2, 2, 2, 2]\n",
      "5\n",
      "4\n"
     ]
    }
   ],
   "source": [
    "#buscar elementos\n",
    "#contar elementos\n",
    "lista.append(2)\n",
    "print(lista)\n",
    "cantidad=lista.count(2)\n",
    "print(cantidad)\n",
    "#para obtener indice se utiliza la funcion index y se da un subconjunto de datos\n",
    "posicion=lista.index(19,0,8)\n",
    "print(posicion)"
   ]
  },
  {
   "cell_type": "code",
   "execution_count": 13,
   "metadata": {},
   "outputs": [
    {
     "name": "stdout",
     "output_type": "stream",
     "text": [
      "16\n"
     ]
    }
   ],
   "source": [
    "# el largo de una coleccion se puede obtener usando la funcion len\n",
    "tamano=len(lista)\n",
    "print(tamano)"
   ]
  },
  {
   "cell_type": "code",
   "execution_count": 15,
   "metadata": {},
   "outputs": [
    {
     "name": "stdout",
     "output_type": "stream",
     "text": [
      "{'color': 'rojo', 'tamano': 3}\n"
     ]
    }
   ],
   "source": [
    "# un tipo de coleccion es el diccionario que asocia valores a conceptos declarados en la coleccion\n",
    "diccionario={\"color\":\"rojo\",\"tamano\":3}\n",
    "print (diccionario)"
   ]
  },
  {
   "cell_type": "code",
   "execution_count": 16,
   "metadata": {},
   "outputs": [
    {
     "name": "stdout",
     "output_type": "stream",
     "text": [
      "{'color': 'rojo', 'tamano': 3}\n",
      "{'color': 'rojo', 'tamano': 3}\n"
     ]
    }
   ],
   "source": [
    "#copiar un diccionario\n",
    "nuevodiccionario=diccionario.copy()\n",
    "print(diccionario)\n",
    "print(nuevodiccionario)"
   ]
  },
  {
   "cell_type": "code",
   "execution_count": 18,
   "metadata": {},
   "outputs": [
    {
     "name": "stdout",
     "output_type": "stream",
     "text": [
      "{}\n",
      "{'color': 'rojo', 'tamano': 3}\n"
     ]
    }
   ],
   "source": [
    "#limpiar un diccionario\n",
    "nuevodiccionario.clear()\n",
    "print(nuevodiccionario)\n",
    "print(diccionario)"
   ]
  },
  {
   "cell_type": "code",
   "execution_count": 20,
   "metadata": {},
   "outputs": [
    {
     "name": "stdout",
     "output_type": "stream",
     "text": [
      "{'nombre': None, 'direccion': None, 'fono': None}\n",
      "{'nombre': 'defecto', 'direccion': 'defecto', 'fono': 'defecto'}\n"
     ]
    }
   ],
   "source": [
    "#crear diccionario desde claves\n",
    "claves=[\"nombre\",\"direccion\",\"fono\"]\n",
    "#se utiliza la funcion fromkeys\n",
    "diccionario=dict.fromkeys(claves)\n",
    "print(diccionario)\n",
    "#para establecer un valor por defecto\n",
    "diccionario=dict.fromkeys(claves,\"defecto\")\n",
    "print(diccionario)"
   ]
  },
  {
   "cell_type": "code",
   "execution_count": 23,
   "metadata": {},
   "outputs": [
    {
     "name": "stdout",
     "output_type": "stream",
     "text": [
      "{'nombre': 'Carlos', 'Edad': 35}\n",
      "{'nombre': 'Carlos', 'Edad': 35, 'direccion': 'La mina 161'}\n"
     ]
    }
   ],
   "source": [
    "diccionario={\"nombre\":\"Carlos\",\"Edad\":35}\n",
    "print(diccionario)\n",
    "#agregar direccion\n",
    "diccionario.setdefault(\"direccion\",\"La mina 161\")\n",
    "print(diccionario)"
   ]
  },
  {
   "cell_type": "code",
   "execution_count": 30,
   "metadata": {},
   "outputs": [
    {
     "name": "stdout",
     "output_type": "stream",
     "text": [
      "Carlos\n"
     ]
    }
   ],
   "source": [
    "#para obtener valores\n",
    "#metodo get recibe como parametro un valor\n",
    "print(diccionario.get(\"nombre\"))"
   ]
  },
  {
   "cell_type": "code",
   "execution_count": null,
   "metadata": {},
   "outputs": [],
   "source": []
  },
  {
   "cell_type": "code",
   "execution_count": null,
   "metadata": {},
   "outputs": [],
   "source": []
  }
 ],
 "metadata": {
  "kernelspec": {
   "display_name": "Python 3",
   "language": "python",
   "name": "python3"
  },
  "language_info": {
   "codemirror_mode": {
    "name": "ipython",
    "version": 3
   },
   "file_extension": ".py",
   "mimetype": "text/x-python",
   "name": "python",
   "nbconvert_exporter": "python",
   "pygments_lexer": "ipython3",
   "version": "3.6.5"
  }
 },
 "nbformat": 4,
 "nbformat_minor": 2
}
