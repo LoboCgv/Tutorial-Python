{
 "cells": [
  {
   "cell_type": "code",
   "execution_count": 12,
   "metadata": {},
   "outputs": [
    {
     "name": "stdout",
     "output_type": "stream",
     "text": [
      "esta es la cadena de pruebaesta es la cadena de prueba\n",
      "4\n",
      "2\n"
     ]
    }
   ],
   "source": [
    "#El tipo de datos String\n",
    "#count entregará la cantidad de veces que esta un string dentro de otro\n",
    "cadena=\"esta es la cadena de prueba\"\n",
    "cadena=cadena*2\n",
    "print(cadena)\n",
    "print(cadena.count(\"es\",0,-1))# se especifica el inicio y final de la busqueda\n",
    "print(cadena.count(\"la\"))#sin especificación"
   ]
  },
  {
   "cell_type": "code",
   "execution_count": 16,
   "metadata": {},
   "outputs": [
    {
     "name": "stdout",
     "output_type": "stream",
     "text": [
      "11\n",
      "-1\n"
     ]
    }
   ],
   "source": [
    "#find encontrará un string dentro de otro devolviendo la posicion de la primera ocurrencia\n",
    "print(cadena.find(\"cadena\"))\n",
    "print(cadena.find(\"cadena\",-5,-1))#no esta el elemento"
   ]
  },
  {
   "cell_type": "code",
   "execution_count": 17,
   "metadata": {},
   "outputs": [
    {
     "name": "stdout",
     "output_type": "stream",
     "text": [
      "GCarlos RaúloCarlos RaúlnCarlos RaúlzCarlos RaúláCarlos RaúllCarlos RaúleCarlos RaúlzCarlos Raúl Carlos RaúlVCarlos RaúlaCarlos RaúllCarlos RaúleCarlos RaúlnCarlos RaúlzCarlos RaúluCarlos RaúleCarlos RaúllCarlos Raúla\n"
     ]
    }
   ],
   "source": [
    "#join une cadenas usando cada caracter de la segunda palabra separada porla primera\n",
    "nombres=\"Carlos Raúl\"\n",
    "apellidos=\"González Valenzuela\"\n",
    "nombreCompleto=nombres.join(apellidos)\n",
    "print(nombreCompleto)"
   ]
  },
  {
   "cell_type": "code",
   "execution_count": 21,
   "metadata": {},
   "outputs": [
    {
     "name": "stdout",
     "output_type": "stream",
     "text": [
      "('Carlos', ' ', 'Raúl')\n"
     ]
    }
   ],
   "source": [
    "#partition Busca el separador sep en la cadena y devuelve una tupla con la subcadena hasta dicho separador, el separador en si, y la subcadena del separador hasta el final de la cadena. Si no se encuentra el separador, la tupla contendrá la cadena en si y dos cadenas vacías.\n",
    "resultado=nombres.partition(\" \")\n",
    "print(resultado)"
   ]
  },
  {
   "cell_type": "code",
   "execution_count": 24,
   "metadata": {},
   "outputs": [
    {
     "name": "stdout",
     "output_type": "stream",
     "text": [
      "esta es una cadena que esta siendo usada para probar y por lo tanto es inutil\n",
      "**ta ** una cadena que esta siendo usada para probar y por lo tanto es inutil\n",
      "esta es una cadena que esta siendo usada para probar y por lo tanto es inutil\n",
      "**ta ** una cadena que **ta siendo usada para probar y por lo tanto ** inutil\n"
     ]
    }
   ],
   "source": [
    "#replace remplazara una cadena dentro de otra\n",
    "# si se especifica un parametro de la cantidad de elementos será la cantidad máxima de ocurrencias\n",
    "cadena=\"esta es una cadena que esta siendo usada para probar y por lo tanto es inutil\"\n",
    "resultado=cadena.replace(\"es\",\"**\",2)\n",
    "print(cadena)\n",
    "print(resultado)\n",
    "resultado=cadena.replace(\"es\",\"**\")\n",
    "print(cadena)\n",
    "print(resultado)"
   ]
  },
  {
   "cell_type": "code",
   "execution_count": 34,
   "metadata": {},
   "outputs": [
    {
     "name": "stdout",
     "output_type": "stream",
     "text": [
      "esta es mi maldita cadena \n",
      " el slash es el separador \n",
      " queda claro\n"
     ]
    }
   ],
   "source": [
    "#split realiza una separación en base a un separador a diferencia de partition no devuelve tuplas\n",
    "#si no se especifica un separador se trabaja con el caracter espacio\n",
    "cadena=\"esta es mi maldita cadena / el slash es el separador / queda claro\"\n",
    "a,b,c=cadena.split('/')\n",
    "print(a)\n",
    "print(b)\n",
    "print(c)\n"
   ]
  },
  {
   "cell_type": "code",
   "execution_count": null,
   "metadata": {},
   "outputs": [],
   "source": []
  }
 ],
 "metadata": {
  "kernelspec": {
   "display_name": "Python 3",
   "language": "python",
   "name": "python3"
  },
  "language_info": {
   "codemirror_mode": {
    "name": "ipython",
    "version": 3
   },
   "file_extension": ".py",
   "mimetype": "text/x-python",
   "name": "python",
   "nbconvert_exporter": "python",
   "pygments_lexer": "ipython3",
   "version": "3.6.5"
  }
 },
 "nbformat": 4,
 "nbformat_minor": 2
}
