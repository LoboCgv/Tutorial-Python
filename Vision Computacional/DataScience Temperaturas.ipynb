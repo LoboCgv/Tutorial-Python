{
 "cells": [
  {
   "cell_type": "code",
   "execution_count": 1,
   "metadata": {},
   "outputs": [],
   "source": [
    "import numpy as np\n",
    "import pandas as pd\n",
    "import pylab\n",
    "import matplotlib.pyplot as plt\n",
    "\n",
    "%matplotlib inline\n",
    "\n",
    "params = {'backend': 'agg',\n",
    "'axes.labelsize': 16,\n",
    "'font.size': 16,\n",
    "'legend.fontsize': 14,\n",
    "'xtick.labelsize': 14,\n",
    "'ytick.labelsize': 14,\n",
    "'text.usetex': False,\n",
    "'figure.figsize': [10,6]}"
   ]
  },
  {
   "cell_type": "code",
   "execution_count": 48,
   "metadata": {},
   "outputs": [],
   "source": [
    "data_file='data/Temperatura.csv'#la fuente de la información es https://figshare.com/articles/temperature_csv/3171766\n",
    "temps=pd.read_csv(data_file,header=0,sep=',')#leer archivo csv\n",
    "#terremotos['time']=pd.to_datetime(terremotos['time'], errors='coerce')"
   ]
  },
  {
   "cell_type": "code",
   "execution_count": 49,
   "metadata": {},
   "outputs": [
    {
     "name": "stdout",
     "output_type": "stream",
     "text": [
      "(5957, 2)\n",
      "RangeIndex(start=0, stop=5957, step=1)\n",
      "['180005;\"Chacalluta'\n",
      " ' Arica Ap.\";\"18&deg 21\\' 5\\'\\' S\";63;2015;1;1;\"18.7\";\"23.4\"']\n"
     ]
    }
   ],
   "source": [
    "print(temps.shape)\n",
    "print(temps.index)\n",
    "print(temps.columns.values)"
   ]
  },
  {
   "cell_type": "code",
   "execution_count": 51,
   "metadata": {},
   "outputs": [
    {
     "data": {
      "text/html": [
       "<div>\n",
       "<style scoped>\n",
       "    .dataframe tbody tr th:only-of-type {\n",
       "        vertical-align: middle;\n",
       "    }\n",
       "\n",
       "    .dataframe tbody tr th {\n",
       "        vertical-align: top;\n",
       "    }\n",
       "\n",
       "    .dataframe thead th {\n",
       "        text-align: right;\n",
       "    }\n",
       "</style>\n",
       "<table border=\"1\" class=\"dataframe\">\n",
       "  <thead>\n",
       "    <tr style=\"text-align: right;\">\n",
       "      <th></th>\n",
       "      <th>180005;\"Chacalluta</th>\n",
       "      <th>Arica Ap.\";\"18&amp;deg 21' 5'' S\";63;2015;1;1;\"18.7\";\"23.4\"</th>\n",
       "    </tr>\n",
       "  </thead>\n",
       "  <tbody>\n",
       "    <tr>\n",
       "      <th>0</th>\n",
       "      <td>180005;\"Chacalluta</td>\n",
       "      <td>Arica Ap.\";\"18&amp;deg 21' 5'' S\";63;2015;1;2;\"20...</td>\n",
       "    </tr>\n",
       "    <tr>\n",
       "      <th>1</th>\n",
       "      <td>180005;\"Chacalluta</td>\n",
       "      <td>Arica Ap.\";\"18&amp;deg 21' 5'' S\";63;2015;1;3;\"20...</td>\n",
       "    </tr>\n",
       "    <tr>\n",
       "      <th>2</th>\n",
       "      <td>180005;\"Chacalluta</td>\n",
       "      <td>Arica Ap.\";\"18&amp;deg 21' 5'' S\";63;2015;1;4;\"19...</td>\n",
       "    </tr>\n",
       "    <tr>\n",
       "      <th>3</th>\n",
       "      <td>180005;\"Chacalluta</td>\n",
       "      <td>Arica Ap.\";\"18&amp;deg 21' 5'' S\";63;2015;1;5;\"19...</td>\n",
       "    </tr>\n",
       "    <tr>\n",
       "      <th>4</th>\n",
       "      <td>180005;\"Chacalluta</td>\n",
       "      <td>Arica Ap.\";\"18&amp;deg 21' 5'' S\";63;2015;1;6;\"19...</td>\n",
       "    </tr>\n",
       "  </tbody>\n",
       "</table>\n",
       "</div>"
      ],
      "text/plain": [
       "   180005;\"Chacalluta  Arica Ap.\";\"18&deg 21' 5'' S\";63;2015;1;1;\"18.7\";\"23.4\"\n",
       "0  180005;\"Chacalluta   Arica Ap.\";\"18&deg 21' 5'' S\";63;2015;1;2;\"20...      \n",
       "1  180005;\"Chacalluta   Arica Ap.\";\"18&deg 21' 5'' S\";63;2015;1;3;\"20...      \n",
       "2  180005;\"Chacalluta   Arica Ap.\";\"18&deg 21' 5'' S\";63;2015;1;4;\"19...      \n",
       "3  180005;\"Chacalluta   Arica Ap.\";\"18&deg 21' 5'' S\";63;2015;1;5;\"19...      \n",
       "4  180005;\"Chacalluta   Arica Ap.\";\"18&deg 21' 5'' S\";63;2015;1;6;\"19...      "
      ]
     },
     "execution_count": 51,
     "metadata": {},
     "output_type": "execute_result"
    }
   ],
   "source": [
    "temps.head()"
   ]
  },
  {
   "cell_type": "code",
   "execution_count": 40,
   "metadata": {},
   "outputs": [
    {
     "name": "stdout",
     "output_type": "stream",
     "text": [
      "City\n",
      "Auckland        1906\n",
      "Brasília        2073\n",
      "Canoas          2072\n",
      "Cape Town       1858\n",
      "Hamilton        1913\n",
      "Johannesburg    1847\n",
      "Kherson         3139\n",
      "Kiev            3136\n",
      "Lvov            3134\n",
      "Marseille       3129\n",
      "Odesa           3143\n",
      "Paris           3137\n",
      "Stockholm       3136\n",
      "Tokyo           1996\n",
      "Tottori         2055\n",
      "Uppsala         3129\n",
      "Warsaw          3130\n",
      "Wroclaw         3135\n",
      "Name: celcius, dtype: int64\n"
     ]
    }
   ],
   "source": []
  },
  {
   "cell_type": "code",
   "execution_count": 47,
   "metadata": {},
   "outputs": [
    {
     "data": {
      "text/plain": [
       "country_id\n",
       "BRA    4145\n",
       "FRA    4293\n",
       "JAP    2501\n",
       "NEW    3474\n",
       "POL    2639\n",
       "SOU    3386\n",
       "SWE    1997\n",
       "UKR    5711\n",
       "Name: celcius, dtype: int64"
      ]
     },
     "execution_count": 47,
     "metadata": {},
     "output_type": "execute_result"
    }
   ],
   "source": []
  },
  {
   "cell_type": "code",
   "execution_count": null,
   "metadata": {},
   "outputs": [],
   "source": []
  }
 ],
 "metadata": {
  "kernelspec": {
   "display_name": "Python 3",
   "language": "python",
   "name": "python3"
  },
  "language_info": {
   "codemirror_mode": {
    "name": "ipython",
    "version": 3
   },
   "file_extension": ".py",
   "mimetype": "text/x-python",
   "name": "python",
   "nbconvert_exporter": "python",
   "pygments_lexer": "ipython3",
   "version": "3.6.5"
  }
 },
 "nbformat": 4,
 "nbformat_minor": 2
}
