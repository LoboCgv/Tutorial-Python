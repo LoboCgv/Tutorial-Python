{
 "cells": [
  {
   "cell_type": "code",
   "execution_count": 2,
   "metadata": {},
   "outputs": [
    {
     "name": "stdout",
     "output_type": "stream",
     "text": [
      "7\n"
     ]
    }
   ],
   "source": [
    "#para tarbajar con funciones se utiliza la palabra reservada def con la que se le indica al interprete\n",
    "# que comienza el nombrede una funcion\n",
    "#a diferencia de otros lenguajes no es necesario declaar el tipo de dato de retorno\n",
    "def suma(x,y):\n",
    "    print(x+y)\n",
    "suma(5,2)# la llamada se hace tal cual como siempre"
   ]
  },
  {
   "cell_type": "code",
   "execution_count": 4,
   "metadata": {},
   "outputs": [
    {
     "name": "stdout",
     "output_type": "stream",
     "text": [
      "-3\n"
     ]
    }
   ],
   "source": [
    "#si quisieramos retornar\n",
    "#determinante\n",
    "def determinante(b,a,c):\n",
    "    return((b**2)-(4*a*c))\n",
    "x=determinante(1,1,1)\n",
    "print(x)"
   ]
  },
  {
   "cell_type": "code",
   "execution_count": 9,
   "metadata": {},
   "outputs": [
    {
     "name": "stdout",
     "output_type": "stream",
     "text": [
      "7\n",
      "5\n"
     ]
    }
   ],
   "source": [
    "#las funciones lambda sirven par definir el procedimiento en cualquier momento y en tiempo de ejecicion\n",
    "suma = lambda x, y = 2: x + y# notese que y si no tiene valor por defecto toma el valor 2\n",
    "print(suma(3,4))\n",
    "print(suma(3))"
   ]
  },
  {
   "cell_type": "code",
   "execution_count": null,
   "metadata": {},
   "outputs": [],
   "source": []
  }
 ],
 "metadata": {
  "kernelspec": {
   "display_name": "Python 3",
   "language": "python",
   "name": "python3"
  },
  "language_info": {
   "codemirror_mode": {
    "name": "ipython",
    "version": 3
   },
   "file_extension": ".py",
   "mimetype": "text/x-python",
   "name": "python",
   "nbconvert_exporter": "python",
   "pygments_lexer": "ipython3",
   "version": "3.6.5"
  }
 },
 "nbformat": 4,
 "nbformat_minor": 2
}
