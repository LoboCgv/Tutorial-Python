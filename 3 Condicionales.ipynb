{
 "cells": [
  {
   "cell_type": "code",
   "execution_count": 2,
   "metadata": {},
   "outputs": [
    {
     "name": "stdout",
     "output_type": "stream",
     "text": [
      "a es menor que b\n"
     ]
    }
   ],
   "source": [
    "#definimos tres variables\n",
    "a=4\n",
    "b=9\n",
    "c=4\n",
    "if(a<b):\n",
    "    print(\"a es menor que b\")\n",
    "elif(a==b):\n",
    "    print(\"a es igual a b\")\n",
    "else:\n",
    "    print(\"a es mayor que b\")\n",
    "#existen los operadores and y or para hacer condiciones compuesta"
   ]
  },
  {
   "cell_type": "markdown",
   "metadata": {},
   "source": [
    "Operaciones Varias con Python"
   ]
  },
  {
   "cell_type": "code",
   "execution_count": 9,
   "metadata": {},
   "outputs": [
    {
     "name": "stdout",
     "output_type": "stream",
     "text": [
      "el valor de x and y es : False\n",
      "el valor de x or y es : True\n",
      "el valor de p->q es : True\n"
     ]
    }
   ],
   "source": [
    "#los valores de verdad en las variables booleanas comienzan con mayuscula\n",
    "x=True\n",
    "y=False\n",
    "z=x and y\n",
    "print(\"el valor de x and y es :\",z)\n",
    "z=x or y\n",
    "print(\"el valor de x or y es :\",z)\n",
    "#si quisieramos saber p->q, ya que no existe la conexion podemos usar el operador not\n",
    "#para utilizar la tautoligioa no(p) or q\n",
    "p=False\n",
    "q=False\n",
    "#entonces p->q\n",
    "z=not(p) or q\n",
    "print(\"el valor de p->q es :\",z)\n"
   ]
  },
  {
   "cell_type": "raw",
   "metadata": {},
   "source": [
    "Operaciones de comparación para condicionales\n",
    "< : Estrictamente menor que\n",
    "<= : Menor o igual que\n",
    "> : Estrictamente mayor que\n",
    ">= : Mayor o igual que\n",
    "== : Igual\n",
    "!= : No es igual\n",
    "is : Identidad del objeto\n",
    "is not : Negación de la identidad del objeto"
   ]
  },
  {
   "cell_type": "code",
   "execution_count": 11,
   "metadata": {},
   "outputs": [
    {
     "name": "stdout",
     "output_type": "stream",
     "text": [
      "False\n"
     ]
    }
   ],
   "source": [
    "x=9\n",
    "print(x is 4)\n",
    "#se pueden hacer comparaciones directas a diferencia de otros lenguajes"
   ]
  },
  {
   "cell_type": "code",
   "execution_count": 13,
   "metadata": {},
   "outputs": [
    {
     "name": "stdout",
     "output_type": "stream",
     "text": [
      "True\n"
     ]
    }
   ],
   "source": [
    "#si quisieramos validar un tipo de dato, no su valor\n",
    "x=2.0#x es un float\n",
    "print(isinstance(x,float))"
   ]
  },
  {
   "cell_type": "raw",
   "metadata": {},
   "source": [
    "Operadores para objetos del tipo numéricos\n",
    "x + y: Suma de x e y\n",
    "x - y: Diferencia de x e y\n",
    "x * y: Multipliación de x e y\n",
    "x / y: División de x e y\n",
    "x // y: Numero entero inferior más próximo de división entre x e y\n",
    "x % y: Módulo de x e y\n",
    "-x: Negación del valor de x\n",
    "+x: El valor de x no es alterado\n",
    "x ** y: El valor de x a la potencia de y\n"
   ]
  },
  {
   "cell_type": "raw",
   "metadata": {},
   "source": [
    "Trabajo con listas\n",
    "\n"
   ]
  },
  {
   "cell_type": "code",
   "execution_count": 15,
   "metadata": {},
   "outputs": [
    {
     "name": "stdout",
     "output_type": "stream",
     "text": [
      "si esta en la lista  carlos\n"
     ]
    }
   ],
   "source": [
    "lista=[\"carlos\",4,\"anibal\",89]\n",
    "#si queremos saber si un valor esta en la lista\n",
    "x=\"carlos\"\n",
    "if(x in lista):\n",
    "    print(\"si esta en la lista \",x)\n",
    "else:\n",
    "    print(\"No esta en la lista \",x)"
   ]
  },
  {
   "cell_type": "code",
   "execution_count": 17,
   "metadata": {},
   "outputs": [
    {
     "name": "stdout",
     "output_type": "stream",
     "text": [
      "(3, 8, 2, 1, 3, 8, 2, 1, 3, 8, 2, 1, 3, 8, 2, 1, 3, 8, 2, 1)\n"
     ]
    }
   ],
   "source": [
    "numeros=(3,8,2,1)#esto es una tupla\n",
    "escalar=5\n",
    "resultado=escalar*numeros#el resultado es una lista con tamaño escalar veces más grande que el original\n",
    "print(resultado)"
   ]
  },
  {
   "cell_type": "code",
   "execution_count": 22,
   "metadata": {},
   "outputs": [
    {
     "name": "stdout",
     "output_type": "stream",
     "text": [
      "<zip object at 0x0000000005034888>\n"
     ]
    }
   ],
   "source": [
    "x=[1,2,3]\n",
    "y=[4,5,6,7]\n",
    "result=zip(x,y)#zip crea duplas de elementos desde la posición 0 hasta la más pequeña de las dos listas\n",
    "print (result)"
   ]
  },
  {
   "cell_type": "code",
   "execution_count": 21,
   "metadata": {},
   "outputs": [
    {
     "name": "stdout",
     "output_type": "stream",
     "text": [
      "[(1, 4), (2, 5), (3, 6)]\n"
     ]
    }
   ],
   "source": [
    "print(list(result))"
   ]
  },
  {
   "cell_type": "code",
   "execution_count": null,
   "metadata": {},
   "outputs": [],
   "source": []
  }
 ],
 "metadata": {
  "kernelspec": {
   "display_name": "Python 3",
   "language": "python",
   "name": "python3"
  },
  "language_info": {
   "codemirror_mode": {
    "name": "ipython",
    "version": 3
   },
   "file_extension": ".py",
   "mimetype": "text/x-python",
   "name": "python",
   "nbconvert_exporter": "python",
   "pygments_lexer": "ipython3",
   "version": "3.6.5"
  }
 },
 "nbformat": 4,
 "nbformat_minor": 2
}
