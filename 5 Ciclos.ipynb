{
 "cells": [
  {
   "cell_type": "code",
   "execution_count": 3,
   "metadata": {},
   "outputs": [
    {
     "name": "stdout",
     "output_type": "stream",
     "text": [
      "1,1,2,3,5,8,13,21,34,55,89,144,233,377,610,987,0\n",
      "1\n",
      "2\n",
      "3\n",
      "4\n",
      "5\n",
      "6\n",
      "7\n",
      "8\n",
      "9\n"
     ]
    }
   ],
   "source": [
    "a, b = 0, 1# una forma distinta de asignar valores a variables \n",
    "while b < 1000:\n",
    "    print(b, end=',')#end=',' implica que al escribir dejara el cursor de escritura y no saltara un carro\n",
    "    a, b = b, a+b\n",
    "i=0\n",
    "while i<10:\n",
    "    print(i)#escribe por linea\n",
    "    i=i+1"
   ]
  },
  {
   "cell_type": "code",
   "execution_count": 4,
   "metadata": {},
   "outputs": [
    {
     "name": "stdout",
     "output_type": "stream",
     "text": [
      "1,1,2,3,5,8,13,21,34,55,89,144,233,377,610,987,\n",
      "El valor de b es mayor que 1000\n"
     ]
    }
   ],
   "source": [
    "a, b = 0, 1\n",
    "while b < 1000:\n",
    "    print(b, end=',')\n",
    "    a, b = b, a+b\n",
    "else:#se agrega una condicion cuando no cumple, es decir si no entra al ciclo puede hacer algo\n",
    "    print(\"\\nEl valor de b es mayor que 1000\")"
   ]
  },
  {
   "cell_type": "code",
   "execution_count": 5,
   "metadata": {},
   "outputs": [
    {
     "name": "stdout",
     "output_type": "stream",
     "text": [
      "1\n"
     ]
    }
   ],
   "source": [
    "#existe el break en un ciclo para terminarlo antes de tiempo\n",
    "i=0\n",
    "while i<100:\n",
    "    i=i+1\n",
    "    print(i)\n",
    "    break #solo escribo 1"
   ]
  },
  {
   "cell_type": "code",
   "execution_count": 7,
   "metadata": {},
   "outputs": [
    {
     "name": "stdout",
     "output_type": "stream",
     "text": [
      "gato 4\n",
      "ventana 7\n",
      "pájaro 6\n",
      "avion 5\n"
     ]
    }
   ],
   "source": [
    "palabras = ['gato', 'ventana', 'pájaro',\"avion\"]#declaramos una lista\n",
    "for p in palabras:#podemos recorrerla usando un for\n",
    "    print(p, len(p))#len entrega el largo de una palabra"
   ]
  },
  {
   "cell_type": "code",
   "execution_count": 11,
   "metadata": {},
   "outputs": [
    {
     "name": "stdout",
     "output_type": "stream",
     "text": [
      "range(0, 4)\n",
      "range(0, 8)\n",
      "gato\n",
      "ventana\n",
      "pájaro\n",
      "avion\n"
     ]
    }
   ],
   "source": [
    "print(range(len(palabras)))#range entrega una tupla con el rango de valor\n",
    "print(range(8))\n",
    "for i in range(len(palabras)):\n",
    "    print(palabras[i])#obtenemos directamente el dato"
   ]
  },
  {
   "cell_type": "code",
   "execution_count": 12,
   "metadata": {},
   "outputs": [
    {
     "name": "stdout",
     "output_type": "stream",
     "text": [
      "Por favor ingrese un número: jk\n",
      "Oops! No era válido. Intente nuevamente...\n",
      "Por favor ingrese un número: jug\n",
      "Oops! No era válido. Intente nuevamente...\n",
      "Por favor ingrese un número: 4\n"
     ]
    }
   ],
   "source": [
    "#para validar podemos ir leyendo por teclado y usar try\n",
    "while True:\n",
    "    try:\n",
    "        x = int(input(\"Por favor ingrese un número: \"))\n",
    "        break\n",
    "    except ValueError:\n",
    "        print(\"Oops! No era válido. Intente nuevamente...\")"
   ]
  },
  {
   "cell_type": "code",
   "execution_count": 13,
   "metadata": {},
   "outputs": [
    {
     "name": "stdout",
     "output_type": "stream",
     "text": [
      "No se pudo abrir el archivo  Archivos/articulo.txt\n"
     ]
    }
   ],
   "source": [
    "try:\n",
    "    file='Archivos/articulo.txt'\n",
    "    f = open(file)\n",
    "except OSError:\n",
    "    print(\"No se pudo abrir el archivo \", file)#cuando el archivo no existe\n",
    "else:\n",
    "    print(\"Archivo abierto de manera correcta \", file)\n",
    "    print(\"El archivo tiene \", len(f.readlines()), 'lineas')\n",
    "    f.close()"
   ]
  },
  {
   "cell_type": "code",
   "execution_count": null,
   "metadata": {},
   "outputs": [],
   "source": []
  }
 ],
 "metadata": {
  "kernelspec": {
   "display_name": "Python 3",
   "language": "python",
   "name": "python3"
  },
  "language_info": {
   "codemirror_mode": {
    "name": "ipython",
    "version": 3
   },
   "file_extension": ".py",
   "mimetype": "text/x-python",
   "name": "python",
   "nbconvert_exporter": "python",
   "pygments_lexer": "ipython3",
   "version": "3.6.5"
  }
 },
 "nbformat": 4,
 "nbformat_minor": 2
}
