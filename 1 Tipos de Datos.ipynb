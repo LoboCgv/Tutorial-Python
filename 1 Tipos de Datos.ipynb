{
 "cells": [
  {
   "cell_type": "code",
   "execution_count": 1,
   "metadata": {},
   "outputs": [],
   "source": [
    "#tres tipos de datos int, float str\n",
    "entero=3\n",
    "flotante=2.0\n",
    "cadena=\"esta es una cadema\""
   ]
  },
  {
   "cell_type": "code",
   "execution_count": 2,
   "metadata": {},
   "outputs": [
    {
     "name": "stdout",
     "output_type": "stream",
     "text": [
      "3\n",
      "2.0\n",
      "esta es una cadema\n"
     ]
    }
   ],
   "source": [
    "#para escribir usamos la función print\n",
    "print(entero)\n",
    "print(flotante)\n",
    "print (cadena)"
   ]
  },
  {
   "cell_type": "code",
   "execution_count": 3,
   "metadata": {},
   "outputs": [
    {
     "name": "stdout",
     "output_type": "stream",
     "text": [
      "<class 'int'>\n",
      "<class 'float'>\n",
      "<class 'str'>\n"
     ]
    }
   ],
   "source": [
    "#imprimir tipos de datos de una variable\n",
    "print (type(entero))\n",
    "print(type(flotante))\n",
    "print(type(cadena))\n"
   ]
  },
  {
   "cell_type": "code",
   "execution_count": 4,
   "metadata": {},
   "outputs": [
    {
     "name": "stdout",
     "output_type": "stream",
     "text": [
      "esta es una cadema segunda cadena\n"
     ]
    }
   ],
   "source": [
    "#se puede concatenar cadenas\n",
    "cadena2=\" segunda cadena\"\n",
    "print(cadena+cadena2)"
   ]
  },
  {
   "cell_type": "code",
   "execution_count": 5,
   "metadata": {},
   "outputs": [],
   "source": [
    "numero=\"32\"\n",
    "suma=entero+int(numero)"
   ]
  },
  {
   "cell_type": "code",
   "execution_count": 6,
   "metadata": {},
   "outputs": [
    {
     "name": "stdout",
     "output_type": "stream",
     "text": [
      "35\n"
     ]
    }
   ],
   "source": [
    "print (suma)"
   ]
  },
  {
   "cell_type": "code",
   "execution_count": 7,
   "metadata": {},
   "outputs": [
    {
     "name": "stdout",
     "output_type": "stream",
     "text": [
      "5.0 <class 'float'>\n"
     ]
    }
   ],
   "source": [
    "#es importnate que en los numeros se queda con el tipo de dato más grande como conjunto numerico\n",
    "suma=entero+flotante\n",
    "print (suma,type(suma))"
   ]
  },
  {
   "cell_type": "code",
   "execution_count": 9,
   "metadata": {},
   "outputs": [],
   "source": [
    "complejo=2+3j\n"
   ]
  },
  {
   "cell_type": "code",
   "execution_count": 10,
   "metadata": {},
   "outputs": [
    {
     "data": {
      "text/plain": [
       "complex"
      ]
     },
     "execution_count": 10,
     "metadata": {},
     "output_type": "execute_result"
    }
   ],
   "source": [
    "type(complejo)"
   ]
  },
  {
   "cell_type": "code",
   "execution_count": 14,
   "metadata": {},
   "outputs": [
    {
     "name": "stdout",
     "output_type": "stream",
     "text": [
      "8\n",
      "64\n",
      "64\n"
     ]
    }
   ],
   "source": [
    "#operaciones\n",
    "# suma +, resta -, multiplicacion *, division /, resto % , potencia **, valor absoluto abs()\n",
    "#considerando numeros complejos si la variable es a entonces su parte real es a.real y su parte imaginaria es a.imag\n",
    "entero=3+5\n",
    "print(entero)\n",
    "potencia=entero**2\n",
    "print(potencia)\n",
    "print (abs(potencia))"
   ]
  },
  {
   "cell_type": "code",
   "execution_count": 15,
   "metadata": {},
   "outputs": [
    {
     "name": "stdout",
     "output_type": "stream",
     "text": [
      "3.0\n",
      "5.0\n"
     ]
    }
   ],
   "source": [
    "complejo=3+5j#3 es la parte real y 5j es la parte imaginaria donde j es la raiz cuadrada de -1\n",
    "print(complejo.real)\n",
    "print(complejo.imag)"
   ]
  },
  {
   "cell_type": "code",
   "execution_count": 17,
   "metadata": {},
   "outputs": [
    {
     "name": "stdout",
     "output_type": "stream",
     "text": [
      "72\n",
      "-5\n"
     ]
    }
   ],
   "source": [
    "#para redondear datos\n",
    "round(3,566788)\n",
    "#encontrar el maximo y el minimo\n",
    "datos=(3,45,1,72,-5)\n",
    "print(max(datos))\n",
    "print(min(datos))"
   ]
  },
  {
   "cell_type": "code",
   "execution_count": 19,
   "metadata": {},
   "outputs": [
    {
     "name": "stdout",
     "output_type": "stream",
     "text": [
      "5.0\n",
      "3.141592653589793\n",
      "1.2246467991473532e-16\n",
      "1.0\n"
     ]
    }
   ],
   "source": [
    "#para funciones más complejas existe la clase math que debemos importarla para trabajar con ella\n",
    "import math\n",
    "numero=25\n",
    "#raiz cuadrada\n",
    "print(math.sqrt(numero))\n",
    "#numero pi\n",
    "print (math.pi)\n",
    "#seno\n",
    "print(math.sin(math.pi))\n",
    "#logaritmo natural y exponencial... si saco el logaritmo natural de e el resultado es 1\n",
    "print(math.log(math.e))"
   ]
  },
  {
   "cell_type": "code",
   "execution_count": 21,
   "metadata": {},
   "outputs": [
    {
     "name": "stdout",
     "output_type": "stream",
     "text": [
      "el valor de pi es 3.141592653589793\n",
      "el valor de pi es3.141592653589793\n"
     ]
    }
   ],
   "source": [
    "#concatenar nuemeros con cadenas no es tan simple como en java donde sumamos solamente, para escribir por consola\n",
    "numero=math.pi\n",
    "cadena=\"el valor de pi es\"\n",
    "print(cadena, numero)\n",
    "resultado=cadena + str(numero)\n",
    "print(resultado)"
   ]
  },
  {
   "cell_type": "code",
   "execution_count": null,
   "metadata": {},
   "outputs": [],
   "source": []
  }
 ],
 "metadata": {
  "kernelspec": {
   "display_name": "Python 3",
   "language": "python",
   "name": "python3"
  },
  "language_info": {
   "codemirror_mode": {
    "name": "ipython",
    "version": 3
   },
   "file_extension": ".py",
   "mimetype": "text/x-python",
   "name": "python",
   "nbconvert_exporter": "python",
   "pygments_lexer": "ipython3",
   "version": "3.6.5"
  }
 },
 "nbformat": 4,
 "nbformat_minor": 2
}
