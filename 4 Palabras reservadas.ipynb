{
 "cells": [
  {
   "cell_type": "code",
   "execution_count": 1,
   "metadata": {},
   "outputs": [
    {
     "data": {
      "text/plain": [
       "['False',\n",
       " 'None',\n",
       " 'True',\n",
       " 'and',\n",
       " 'as',\n",
       " 'assert',\n",
       " 'break',\n",
       " 'class',\n",
       " 'continue',\n",
       " 'def',\n",
       " 'del',\n",
       " 'elif',\n",
       " 'else',\n",
       " 'except',\n",
       " 'finally',\n",
       " 'for',\n",
       " 'from',\n",
       " 'global',\n",
       " 'if',\n",
       " 'import',\n",
       " 'in',\n",
       " 'is',\n",
       " 'lambda',\n",
       " 'nonlocal',\n",
       " 'not',\n",
       " 'or',\n",
       " 'pass',\n",
       " 'raise',\n",
       " 'return',\n",
       " 'try',\n",
       " 'while',\n",
       " 'with',\n",
       " 'yield']"
      ]
     },
     "execution_count": 1,
     "metadata": {},
     "output_type": "execute_result"
    }
   ],
   "source": [
    "import keyword #son las palabras que el lenguaje soporta, hay diferencias entre las versiones\n",
    "\n",
    "keyword.kwlist"
   ]
  },
  {
   "cell_type": "code",
   "execution_count": 2,
   "metadata": {},
   "outputs": [
    {
     "data": {
      "text/plain": [
       "True"
      ]
     },
     "execution_count": 2,
     "metadata": {},
     "output_type": "execute_result"
    }
   ],
   "source": [
    "keyword.iskeyword('try')#saber si una palabra es reservada"
   ]
  },
  {
   "cell_type": "raw",
   "metadata": {},
   "source": [
    "Manejo de excepciones"
   ]
  },
  {
   "cell_type": "code",
   "execution_count": 3,
   "metadata": {},
   "outputs": [
    {
     "name": "stdout",
     "output_type": "stream",
     "text": [
      "División por cero!\n"
     ]
    }
   ],
   "source": [
    "x=0\n",
    "y=10\n",
    "#y/x arrojará un error por division por cero\n",
    "try:# para el manejo de excepciones\n",
    "    result = y / x\n",
    "except ZeroDivisionError:\n",
    "    print(\"División por cero!\")"
   ]
  },
  {
   "cell_type": "code",
   "execution_count": 4,
   "metadata": {},
   "outputs": [
    {
     "name": "stdout",
     "output_type": "stream",
     "text": [
      "Resultado de división entre  19  y  26  =  0.7307692307692307\n"
     ]
    }
   ],
   "source": [
    "#para que siga trabajando cuando no hay división por 0 se agrega un caso positivo\n",
    "x=19\n",
    "y=26\n",
    "try:\n",
    "    result = x / y\n",
    "except ZeroDivisionError:\n",
    "    print(\"División por cero!\")\n",
    "else:\n",
    "    print(\"Resultado de división entre \", x, \" y \", y, \" = \", result)"
   ]
  },
  {
   "cell_type": "code",
   "execution_count": 5,
   "metadata": {},
   "outputs": [
    {
     "name": "stdout",
     "output_type": "stream",
     "text": [
      "División por cero!\n",
      "La división ha finalizado\n"
     ]
    }
   ],
   "source": [
    "x=10\n",
    "y=0\n",
    "\n",
    "try:\n",
    "    result = x / y\n",
    "except ZeroDivisionError:\n",
    "    print(\"División por cero!\")\n",
    "else:\n",
    "    print(\"Resultado de división entre \", x, \" y \", y, \" = \", result)\n",
    "finally:\n",
    "    print(\"La división ha finalizado\")#finally serán acciones que se ejecutarán al terminar lo interno de try\n",
    "#sea cual sea el resultado    "
   ]
  },
  {
   "cell_type": "code",
   "execution_count": 7,
   "metadata": {},
   "outputs": [
    {
     "name": "stdout",
     "output_type": "stream",
     "text": [
      "Me gustas cuando callas porque estÃ¡s como ausente, \n",
      "y me oyes desde lejos, y mi voz no te toca. \n",
      "Parece que los ojos se te hubieran volado \n",
      "y parece que un beso te cerrara la boca. \n",
      "\n",
      "Como todas las cosas estÃ¡n llenas de mi alma \n",
      "emerges de las cosas, llena del alma mÃ­a. \n",
      "Mariposa de sueÃ±o, te pareces a mi alma, \n",
      "y te pareces a la palabra melancolÃ­a. \n",
      "\n",
      "Me gustas cuando callas y estÃ¡s como distante. \n",
      "Y estÃ¡s como quejÃ¡ndote, mariposa en arrullo. \n",
      "Y me oyes desde lejos, y mi voz no te alcanza: \n",
      "dÃ©jame que me calle con el silencio tuyo. \n",
      "\n",
      "DÃ©jame que te hable tambiÃ©n con tu silencio \n",
      "claro como una lÃ¡mpara, simple como un anillo. \n",
      "Eres como la noche, callada y constelada. \n",
      "Tu silencio es de estrella, tan lejano y sencillo. \n",
      "\n",
      "Me gustas cuando callas porque estÃ¡s como ausente. \n",
      "Distante y dolorosa como si hubieras muerto. \n",
      "Una palabra entonces, una sonrisa bastan. \n",
      "Y estoy alegre, alegre de que no sea cierto."
     ]
    }
   ],
   "source": [
    "with open(\"Archivos/poema_15_Pablo_Neruda.txt\") as f:#leer un archivo de texto linea por linea\n",
    "    for line in f:\n",
    "        print(line, end=\"\")"
   ]
  },
  {
   "cell_type": "code",
   "execution_count": null,
   "metadata": {},
   "outputs": [],
   "source": []
  }
 ],
 "metadata": {
  "kernelspec": {
   "display_name": "Python 3",
   "language": "python",
   "name": "python3"
  },
  "language_info": {
   "codemirror_mode": {
    "name": "ipython",
    "version": 3
   },
   "file_extension": ".py",
   "mimetype": "text/x-python",
   "name": "python",
   "nbconvert_exporter": "python",
   "pygments_lexer": "ipython3",
   "version": "3.6.5"
  }
 },
 "nbformat": 4,
 "nbformat_minor": 2
}
